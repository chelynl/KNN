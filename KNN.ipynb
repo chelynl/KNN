{
 "cells": [
  {
   "cell_type": "markdown",
   "metadata": {},
   "source": [
    "# KNN: \n",
    "- K-Nearest Neighbors\n",
    "- Supervised modeling\n",
    "- Capable of both classification and regression\n",
    "- Assumption: similar things exist near each other\n",
    "- For data with similar input variables, we should expect similar output variables between nearby data points\n",
    "\n",
    "Resource used:<br>\n",
    "https://stackabuse.com/k-nearest-neighbors-algorithm-in-python-and-scikit-learn/"
   ]
  },
  {
   "cell_type": "code",
   "execution_count": 1,
   "metadata": {},
   "outputs": [],
   "source": [
    "import pyreadr # import R data\n",
    "import numpy as np # linear alegbra\n",
    "import matplotlib.pyplot as plt\n",
    "from sklearn.neighbors import NearestNeighbors, KNeighborsClassifier, KNeighborsRegressor\n",
    "from sklearn.metrics import classification_report, confusion_matrix"
   ]
  },
  {
   "cell_type": "code",
   "execution_count": 2,
   "metadata": {},
   "outputs": [],
   "source": [
    "data = pyreadr.read_r(\"C:/Users/chely/Documents/Fall 2/Data Mining/Data/PenDigits.RData\")\n",
    "\n",
    "x_train = data['train'].iloc[:,0:16]\n",
    "y_train = data['train'].iloc[:,16]\n",
    "\n",
    "x_test = data['test'].iloc[:,0:16]\n",
    "y_test = data['test'].iloc[:,16]"
   ]
  },
  {
   "cell_type": "code",
   "execution_count": 3,
   "metadata": {},
   "outputs": [],
   "source": [
    "# initialize knn class with k=5 to start\n",
    "classifier = KNeighborsClassifier(n_neighbors=5)\n",
    "# fit KNN to training data\n",
    "classifier.fit(x_train, y_train)\n",
    "\n",
    "# make predictions on our test data\n",
    "y_pred = classifier.predict(x_test)"
   ]
  },
  {
   "cell_type": "code",
   "execution_count": 4,
   "metadata": {},
   "outputs": [
    {
     "name": "stdout",
     "output_type": "stream",
     "text": [
      "[[354   0   0   0   0   0   7   0   2   0]\n",
      " [  0 347  15   0   1   0   0   1   0   0]\n",
      " [  0   2 362   0   0   0   0   0   0   0]\n",
      " [  0   1   0 333   0   0   0   0   0   2]\n",
      " [  0   0   0   0 354   9   1   0   0   0]\n",
      " [  0   0   0   6   0 328   0   0   0   1]\n",
      " [  0   0   0   0   0   0 336   0   0   0]\n",
      " [  0  15   1   0   0   0   0 347   1   0]\n",
      " [  1   0   0   0   0   1   0   0 334   0]\n",
      " [  0   2   0   9   0   1   0   4   1 319]]\n"
     ]
    }
   ],
   "source": [
    "# Confusion matrix\n",
    "print(confusion_matrix(y_test, y_pred))"
   ]
  },
  {
   "cell_type": "code",
   "execution_count": 5,
   "metadata": {},
   "outputs": [
    {
     "name": "stdout",
     "output_type": "stream",
     "text": [
      "              precision    recall  f1-score   support\n",
      "\n",
      "           0       1.00      0.98      0.99       363\n",
      "           1       0.95      0.95      0.95       364\n",
      "           2       0.96      0.99      0.98       364\n",
      "           3       0.96      0.99      0.97       336\n",
      "           4       1.00      0.97      0.98       364\n",
      "           5       0.97      0.98      0.97       335\n",
      "           6       0.98      1.00      0.99       336\n",
      "           7       0.99      0.95      0.97       364\n",
      "           8       0.99      0.99      0.99       336\n",
      "           9       0.99      0.95      0.97       336\n",
      "\n",
      "    accuracy                           0.98      3498\n",
      "   macro avg       0.98      0.98      0.98      3498\n",
      "weighted avg       0.98      0.98      0.98      3498\n",
      "\n"
     ]
    }
   ],
   "source": [
    "# More classification metrics\n",
    "print(classification_report(y_test, y_pred))"
   ]
  },
  {
   "cell_type": "code",
   "execution_count": 6,
   "metadata": {},
   "outputs": [
    {
     "name": "stdout",
     "output_type": "stream",
     "text": [
      "Misclassification Rate: 0.024013722126929673\n"
     ]
    }
   ],
   "source": [
    "# Compute the misclassification rate (mean error rate)\n",
    "print('Misclassification Rate:', np.mean(y_pred != y_test))"
   ]
  },
  {
   "cell_type": "markdown",
   "metadata": {},
   "source": [
    "We will plot the misclassification rate for the predicted values of test set for all the K values between 1 and 20."
   ]
  },
  {
   "cell_type": "code",
   "execution_count": 7,
   "metadata": {},
   "outputs": [
    {
     "data": {
      "text/plain": [
       "Text(3.1, 0.026, '3')"
      ]
     },
     "execution_count": 7,
     "metadata": {},
     "output_type": "execute_result"
    },
    {
     "data": {
      "image/png": "[encoded data removed]",
      "text/plain": [
       "<Figure size 864x432 with 1 Axes>"
      ]
     },
     "metadata": {
      "needs_background": "light"
     },
     "output_type": "display_data"
    }
   ],
   "source": [
    "# k values\n",
    "k_vals = range(1,21)\n",
    "\n",
    "# empty list to store errors\n",
    "error = []\n",
    "\n",
    "# Calculating error for K values between 1 and 20\n",
    "for i in k_vals:\n",
    "    knn = KNeighborsClassifier(n_neighbors=i)\n",
    "    knn.fit(x_train, y_train)\n",
    "    pred_i = knn.predict(x_test)\n",
    "    error.append(np.mean(pred_i != y_test))\n",
    "    \n",
    "# Get min error\n",
    "error_min = np.min(error)\n",
    "\n",
    "# Find k that produces min error\n",
    "best_k = k_vals[error.index(error_min)]\n",
    "\n",
    "# plot the error values against K values\n",
    "plt.figure(figsize=(12, 6))\n",
    "plt.plot(k_vals, error, color='red', linestyle='dashed', marker='o',\n",
    "         markerfacecolor='blue', markersize=10)\n",
    "plt.title('Error Rate K Value')\n",
    "plt.xlabel('K Value')\n",
    "plt.ylabel('Mean Error')\n",
    "plt.axvline(x=best_k)\n",
    "plt.text(x=best_k+0.1, y=.026, s=best_k)"
   ]
  },
  {
   "cell_type": "code",
   "execution_count": 8,
   "metadata": {},
   "outputs": [
    {
     "name": "stdout",
     "output_type": "stream",
     "text": [
      "[[354   0   0   0   0   0   5   0   3   1]\n",
      " [  0 350  11   0   1   0   0   2   0   0]\n",
      " [  0   2 362   0   0   0   0   0   0   0]\n",
      " [  0   1   0 333   0   0   0   0   0   2]\n",
      " [  0   0   0   0 354  10   0   0   0   0]\n",
      " [  0   0   0   5   0 328   0   0   0   2]\n",
      " [  0   0   0   0   0   0 336   0   0   0]\n",
      " [  0  10   1   0   0   0   1 351   1   0]\n",
      " [  1   0   0   0   0   1   0   0 334   0]\n",
      " [  0   3   0   7   1   1   0   4   1 319]]\n",
      "              precision    recall  f1-score   support\n",
      "\n",
      "           0       1.00      0.98      0.99       363\n",
      "           1       0.96      0.96      0.96       364\n",
      "           2       0.97      0.99      0.98       364\n",
      "           3       0.97      0.99      0.98       336\n",
      "           4       0.99      0.97      0.98       364\n",
      "           5       0.96      0.98      0.97       335\n",
      "           6       0.98      1.00      0.99       336\n",
      "           7       0.98      0.96      0.97       364\n",
      "           8       0.99      0.99      0.99       336\n",
      "           9       0.98      0.95      0.97       336\n",
      "\n",
      "    accuracy                           0.98      3498\n",
      "   macro avg       0.98      0.98      0.98      3498\n",
      "weighted avg       0.98      0.98      0.98      3498\n",
      "\n",
      "Misclassification Rate: 0.0220125786163522\n"
     ]
    }
   ],
   "source": [
    "# initialize knn class with k=5 to start\n",
    "classifier = KNeighborsClassifier(n_neighbors=3)\n",
    "# fit KNN to training data\n",
    "classifier.fit(x_train, y_train)\n",
    "\n",
    "# make predictions on our test data\n",
    "y_pred = classifier.predict(x_test)\n",
    "\n",
    "# Confusion matrix\n",
    "print(confusion_matrix(y_test, y_pred))\n",
    "\n",
    "# More classification metrics\n",
    "print(classification_report(y_test, y_pred))\n",
    "\n",
    "# Compute the misclassification rate (mean error rate)\n",
    "print('Misclassification Rate:', np.mean(y_pred != y_test))"
   ]
  }
 ],
 "metadata": {
  "kernelspec": {
   "display_name": "Python 3",
   "language": "python",
   "name": "python3"
  },
  "language_info": {
   "codemirror_mode": {
    "name": "ipython",
    "version": 3
   },
   "file_extension": ".py",
   "mimetype": "text/x-python",
   "name": "python",
   "nbconvert_exporter": "python",
   "pygments_lexer": "ipython3",
   "version": "3.7.6"
  }
 },
 "nbformat": 4,
 "nbformat_minor": 4
}
